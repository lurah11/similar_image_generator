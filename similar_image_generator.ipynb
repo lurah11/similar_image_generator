{
  "nbformat": 4,
  "nbformat_minor": 0,
  "metadata": {
    "colab": {
      "provenance": []
    },
    "kernelspec": {
      "name": "python3",
      "display_name": "Python 3"
    },
    "language_info": {
      "name": "python"
    }
  },
  "cells": [
    {
      "cell_type": "code",
      "source": [
        "from typing import Optional\n",
        "import requests\n",
        "import aiohttp\n",
        "import asyncio\n",
        "import matplotlib.pyplot as plt\n",
        "import json\n",
        "from PIL import Image\n",
        "from io import BytesIO\n",
        "from datetime import datetime\n",
        "\n",
        "class ImageGenerator():\n",
        "  url = 'https://api-inference.huggingface.co/models/runwayml/stable-diffusion-v1-5'\n",
        "  headers = None\n",
        "\n",
        "  def __init__(self, prompt:str, HF_TOKEN:str, async_req=False,number_of_request:Optional[int]=1):\n",
        "    self.prompt = prompt\n",
        "    self.number_of_request = number_of_request\n",
        "    self.HF_TOKEN = HF_TOKEN\n",
        "    self.item_counter = 0\n",
        "    self.response_list = []\n",
        "    self.image_list = []\n",
        "    self.async_req = async_req\n",
        "    self.default_headers = {\n",
        "    \"Authorization\": f\"Bearer {HF_TOKEN}\",\n",
        "    \"Cache-Control\":\"no-store\",\n",
        "    \"max-age\":\"0\",\n",
        "    \"User-Agent\":\"Mozilla/5.0 (Windows NT 10.0; Win64; x64) AppleWebKit/537.36 (KHTML, like Gecko) Chrome/117.0.0.0 Safari/537.36\",\n",
        "}\n",
        "    self.time_taken = 0\n",
        "\n",
        "  def set_headers(self, headers:Optional[dict[str,str]]=None):\n",
        "    if not headers :\n",
        "      self.headers = self.default_headers\n",
        "    else :\n",
        "      self.headers = self.headers\n",
        "\n",
        "  def sync_request(self):\n",
        "    self.prompt = self.prompt + \" #\" + str(self.item_counter)\n",
        "    data = json.dumps(self.prompt)\n",
        "    response = requests.request(\"POST\", self.url, headers=self.headers, data=data)\n",
        "    self.item_counter += 1\n",
        "    return response\n",
        "\n",
        "  def get_async_tasks(self, session):\n",
        "    tasks = []\n",
        "    data = json.dumps(self.prompt)\n",
        "    for i in range(self.number_of_request):\n",
        "      self.prompt = self.prompt + \" #\" + str(self.item_counter)\n",
        "      tasks.append(session.post(self.url,headers=self.headers,data=data))\n",
        "      self.item_counter += 1\n",
        "    return tasks\n",
        "\n",
        "  async def async_request(self):\n",
        "    start = datetime.now()\n",
        "    results = []\n",
        "    temp_response = []\n",
        "    async with aiohttp.ClientSession() as session:\n",
        "      tasks = self.get_async_tasks(session)\n",
        "      response = await asyncio.gather(*tasks)\n",
        "      for resp in response :\n",
        "        results.append(await resp.content.read())\n",
        "        temp_response.append(resp)\n",
        "      duration = datetime.now() - start\n",
        "      print(f\"time taken {duration.total_seconds()}\")\n",
        "      return temp_response,results\n",
        "\n",
        "  def get_image(self):\n",
        "    self.time_taken = 0\n",
        "    req_time = datetime.now()\n",
        "    for i in range(self.number_of_request):\n",
        "        response = self.sync_request()\n",
        "        self.response_list.append(response)\n",
        "        self.image_list.append(response.content)\n",
        "        self.item_counter += 1\n",
        "    time_taken = datetime.now() - req_time\n",
        "    self.time_taken = time_taken.total_seconds()\n",
        "\n",
        "  def show_picture(self, ncols:Optional[int]=3):\n",
        "    nrows = len(self.response_list)// ncols + 1\n",
        "    fig,axs = plt.subplots(nrows,ncols,sharex=True, sharey=True)\n",
        "    item_index = 0\n",
        "    for ax in axs :\n",
        "      if str(type(ax))==\"<class 'numpy.ndarray'>\" :\n",
        "        for a in ax:\n",
        "          try:\n",
        "            data_img = self.image_list[item_index]\n",
        "            img = Image.open(BytesIO(data_img))\n",
        "            a.imshow(img)\n",
        "            item_index += 1\n",
        "          except:\n",
        "            break\n",
        "      else :\n",
        "            try:\n",
        "              data_img = self.image_list[item_index]\n",
        "              img = Image.open(BytesIO(data_img))\n",
        "              ax.imshow(img)\n",
        "              item_index += 1\n",
        "            except:\n",
        "              break\n",
        "\n"
      ],
      "metadata": {
        "id": "Y1wQ_DnQ5OLO"
      },
      "execution_count": null,
      "outputs": []
    },
    {
      "cell_type": "markdown",
      "source": [
        "### 1. Synchronous Request"
      ],
      "metadata": {
        "id": "tT_olO3PqUJJ"
      }
    },
    {
      "cell_type": "code",
      "source": [
        "HF_TOKEN='Your hugging face token'\n",
        "image_generator = ImageGenerator(prompt=\"a dragon fish \",HF_TOKEN=HF_TOKEN,number_of_request=5, async_req=False)\n"
      ],
      "metadata": {
        "id": "G8PEVWSDLIel"
      },
      "execution_count": null,
      "outputs": []
    },
    {
      "cell_type": "code",
      "source": [
        "image_generator.get_image()\n",
        "print(f\"time taken = {image_generator.time_taken}\")\n",
        "print(f\"last_response_status = {image_generator.response_list[-1]}\")"
      ],
      "metadata": {
        "id": "Sl9-7sAjmAiG"
      },
      "execution_count": null,
      "outputs": []
    },
    {
      "cell_type": "code",
      "source": [
        "image_generator.show_picture()"
      ],
      "metadata": {
        "id": "7AxEvvfbmqJx"
      },
      "execution_count": null,
      "outputs": []
    },
    {
      "cell_type": "markdown",
      "source": [
        "\n",
        "\n",
        "> ### 2. Asynchronous Requests\n",
        "\n"
      ],
      "metadata": {
        "id": "VUnhsVizqeHs"
      }
    },
    {
      "cell_type": "code",
      "source": [
        "HF_TOKEN='Your hugging face token'\n",
        "image_generator2 = ImageGenerator(prompt=\"a colorful dragon fish\",HF_TOKEN=HF_TOKEN,number_of_request=5, async_req=True)"
      ],
      "metadata": {
        "id": "f0NEaN5LqlOV"
      },
      "execution_count": null,
      "outputs": []
    },
    {
      "cell_type": "code",
      "source": [
        "async_response = await image_generator2.async_request()\n",
        "image_generator2.response_list, image_generator2.image_list = async_response\n",
        "print(f\"last response status = {image_generator2.response_list[-1]}\")"
      ],
      "metadata": {
        "id": "jdmIvX2rOeMD"
      },
      "execution_count": null,
      "outputs": []
    },
    {
      "cell_type": "code",
      "source": [
        "image_generator2.show_picture()"
      ],
      "metadata": {
        "id": "UZHUdCIKpcH3"
      },
      "execution_count": null,
      "outputs": []
    }
  ]
}